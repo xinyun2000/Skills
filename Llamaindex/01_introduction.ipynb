{
 "cells": [
  {
   "cell_type": "markdown",
   "metadata": {},
   "source": [
    "## LLamaIndex\n",
    "\n",
    "### Introduction\n",
    "\n",
    "A framework for LLM applications to **inject, structure,** and **access private domain-specific data**\n",
    "\n",
    "**Why LlamaIndex is needed**\n",
    "\n",
    "- LLM is basically trained on a large amount of public data.\n",
    "- Applications built on top of large language models often need to be augmented with private or domain-specific data\n",
    "- These data exist in various places, and LlamaIndex builds a bridge for us to connect the two.\n",
    "\n",
    "![image](https://github.com/xinyun2000/Skills/assets/130521370/a2dc64e5-7f68-4de3-83e9-72db9afa125f)\n",
    "\n",
    "LlamaIndex works with various LLMs\n",
    "\n",
    "![1696995018018](https://github.com/xinyun2000/Skills/assets/130521370/872c4726-c1ec-442d-9920-d515af7c70a8)"
   ]
  },
  {
   "cell_type": "markdown",
   "metadata": {},
   "source": [
    "Introduction code: query information from txt"
   ]
  },
  {
   "cell_type": "code",
   "execution_count": null,
   "metadata": {},
   "outputs": [],
   "source": [
    "%pip install -q llama-index"
   ]
  },
  {
   "cell_type": "markdown",
   "metadata": {},
   "source": [
    "I have directly download the file and put it in the data folder. \n",
    "\n",
    "If we want to let jupyter get some file from the website, we will use the code below.\n",
    "\n",
    "**!mkoir data**  #build a folder called data\n",
    "\n",
    "**!wget URL** #get the file from this URL"
   ]
  },
  {
   "cell_type": "code",
   "execution_count": 5,
   "metadata": {},
   "outputs": [],
   "source": [
    "import os \n",
    "os.environ[\"OPENAI_API_KEY\"]='real_api_key' #the llamaIndex use openai"
   ]
  },
  {
   "cell_type": "code",
   "execution_count": 6,
   "metadata": {},
   "outputs": [],
   "source": [
    "from llama_index import VectorStoreIndex,SimpleDirectoryReader\n",
    "\n",
    "documents = SimpleDirectoryReader('data').load_data() #SimpleDirectoryReader load files from the specific folder\n",
    "index = VectorStoreIndex.from_documents(documents) #Vectorize the document and store it into the vector"
   ]
  },
  {
   "cell_type": "code",
   "execution_count": 7,
   "metadata": {},
   "outputs": [
    {
     "name": "stdout",
     "output_type": "stream",
     "text": [
      "The author of the given context is Paul Graham.\n"
     ]
    }
   ],
   "source": [
    "query_engine = index.as_query_engine()\n",
    "response = query_engine.query(\"Who is the author?\") #查询引擎.查询\n",
    "print(response)"
   ]
  },
  {
   "cell_type": "code",
   "execution_count": 8,
   "metadata": {},
   "outputs": [
    {
     "name": "stdout",
     "output_type": "stream",
     "text": [
      "Paul Graham is a prominent figure in the field of computer programming and entrepreneurship. He is known for his work in developing the programming language Lisp and for co-founding the startup accelerator Y Combinator. Graham has written numerous essays on topics ranging from programming to startup culture, which have gained a significant following. He has also been involved in various software projects and has made contributions to the field of computer science.\n"
     ]
    }
   ],
   "source": [
    "response = query_engine.query(\"Introduce me Paul Graham\")\n",
    "print(response)"
   ]
  },
  {
   "cell_type": "markdown",
   "metadata": {},
   "source": [
    "### Some tips about OpenAI\n",
    "Use the command to check the operation of openai apikey in jupyter notebook"
   ]
  },
  {
   "cell_type": "code",
   "execution_count": 9,
   "metadata": {},
   "outputs": [],
   "source": [
    "import os\n",
    "import openai\n",
    "os.environ['OPENAI_API_KEY']='real_api_key'"
   ]
  },
  {
   "cell_type": "code",
   "execution_count": 14,
   "metadata": {},
   "outputs": [],
   "source": [
    "import logging #导入python的logging模块，该模块负责创建日志信息\n",
    "import sys #导入sys模块，负责提供对python解释器的访问\n",
    "\n",
    "logging.basicConfig(stream=sys.stdout,level=logging.DEBUG) #logging.basicConfig配置日志记录的行为,stream=sys.stdout指定日志消息应显示在笔记本的标准输出中\n",
    "logging.getLogger().addHandler(logging.StreamHandler(stream=sys.stdout)) #添加一个日志处理程序，以将日志消息定向到标准输出\n",
    "\n",
    "openai.log = \"None\""
   ]
  }
 ],
 "metadata": {
  "kernelspec": {
   "display_name": "py310",
   "language": "python",
   "name": "python3"
  },
  "language_info": {
   "codemirror_mode": {
    "name": "ipython",
    "version": 3
   },
   "file_extension": ".py",
   "mimetype": "text/x-python",
   "name": "python",
   "nbconvert_exporter": "python",
   "pygments_lexer": "ipython3",
   "version": "3.10.13"
  },
  "orig_nbformat": 4
 },
 "nbformat": 4,
 "nbformat_minor": 2
}
